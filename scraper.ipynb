{
 "cells": [
  {
   "attachments": {},
   "cell_type": "markdown",
   "metadata": {},
   "source": [
    "## Ceneo Scraper"
   ]
  },
  {
   "attachments": {},
   "cell_type": "markdown",
   "metadata": {},
   "source": [
    "## Biblioteki"
   ]
  },
  {
   "cell_type": "code",
   "execution_count": null,
   "metadata": {},
   "outputs": [],
   "source": [
    "import os\n",
    "import json\n",
    "import requests\n",
    "from bs4 import BeautifulSoup"
   ]
  },
  {
   "cell_type": "code",
   "execution_count": null,
   "metadata": {},
   "outputs": [],
   "source": [
    "product_id = \"114700014\"\n",
    "url = f\"https://www.ceneo.pl/{product_id}/opinie-2\"\n",
    "response = requests.get(url)\n",
    "response.status_code"
   ]
  },
  {
   "cell_type": "code",
   "execution_count": null,
   "metadata": {},
   "outputs": [],
   "source": [
    "all_opinions = []\n",
    "while (url):\n",
    "    page_dom = BeautifulSoup(response.text, \"html.parser\")\n",
    "    opinions = page_dom.select(\"div.js_product-review\")\n",
    "    for opinion in opinions:\n",
    "        try:\n",
    "            single_opinion = {\n",
    "            \"opinion_id\": opinion[\"data-entry-id\"],\n",
    "            \"author\" : opinion.select_one('span.user-post__author-name').get_text().strip(),\n",
    "            \"recommendation\" : opinion.select_one('span.user-post__author-recomendation > em').get_text().strip(),\n",
    "            \"rating\" : opinion.select_one('span.user-post__score-count').get_text().strip(),\n",
    "            \"content\" : opinion.select_one('div.user-post__text').get_text().strip(),\n",
    "            \"pros\" : [p.get_text().strip() for p in opinion.select('div.review-feature__title--positives ~ div.review-feature__item')],\n",
    "            \"cons\" : [c.get_text().strip() for c in opinion.select('div.review-feature__title--negatives ~ div.review-feature__item')],\n",
    "            \"useful\" : opinion.select_one('span[id^=\"votes-yes\"]').get_text().strip(),\n",
    "            \"useless\" : opinion.select_one('span[id^=\"votes-no\"]').get_text().strip(),\n",
    "            \"post_date\" : opinion.select_one('span.user-post__published > time:nth-child(1)')[\"datetime\"].strip(),\n",
    "            \"purchase_date\" : opinion.select_one('span.user-post__published > time:nth-child(2)')[\"datetime\"].strip()\n",
    "            }\n",
    "            all_opinions.append(single_opinion)\n",
    "        except (AttributeError,TypeError):\n",
    "            pass\n",
    "    try:\n",
    "        url = \"https://www.ceneo.pl\"+page_dom.select_one(\"a.pagination__next\")[\"href\"]\n",
    "    except AttributeError:\n",
    "        url = None"
   ]
  },
  {
   "attachments": {},
   "cell_type": "markdown",
   "metadata": {},
   "source": [
    "## Ekstrakcja składowych pojedyńczej tabeli\n",
    "\n",
    "|Składowa|Selektor|Zmienna|\n",
    "|--------|--------|-------|\n",
    "|id opinii|[\"data-entry-id\"]|opinion_id|\n",
    "|autor|span.user-post__author-name|author|\n",
    "|rekomendacja|span.user-post_author-recomendation|recommendations|\n",
    "|gwiazdki|span.user-post_score_count|rating|\n",
    "|treść|div.user-post__text|content|\n",
    "|lista zalet|div.review-future__title--positives|pros|\n",
    "|lista wad|div.review-future__title--negatives|cons|\n",
    "|dla ilu przydatna|span[id^=\"votes-yes\"]|useful|\n",
    "|dla ilu nieprzydatna|span[id^=\"votes-no\"]|useless|\n",
    "|data wystawienia|span.user-post_published > time:nth-child(1)[\"datetime\"]|post_date|\n",
    "|data zakupu|span.user-post_published > time:nth-child(2)[\"datetime\"]|purchase_date|"
   ]
  },
  {
   "cell_type": "code",
   "execution_count": null,
   "metadata": {},
   "outputs": [],
   "source": [
    "if not os.path.exists(\"opinions\"):\n",
    "    os.mkdir(\"opinions\")\n",
    "with open(f\"opinions/{product_id}.json\", \"w\", encoding=\"UTF-8\") as jf:\n",
    "    json.dump(all_opinions, jf, indent=4, ensure_ascii=False)"
   ]
  }
 ],
 "metadata": {
  "kernelspec": {
   "display_name": ".venv",
   "language": "python",
   "name": "python3"
  },
  "language_info": {
   "codemirror_mode": {
    "name": "ipython",
    "version": 3
   },
   "file_extension": ".py",
   "mimetype": "text/x-python",
   "name": "python",
   "nbconvert_exporter": "python",
   "pygments_lexer": "ipython3",
   "version": "3.11.4"
  },
  "orig_nbformat": 4
 },
 "nbformat": 4,
 "nbformat_minor": 2
}
